{
  "nbformat": 4,
  "nbformat_minor": 0,
  "metadata": {
    "colab": {
      "provenance": [],
      "authorship_tag": "ABX9TyMg39nbCDkJmLcY221V23hu",
      "include_colab_link": true
    },
    "kernelspec": {
      "name": "python3",
      "display_name": "Python 3"
    },
    "language_info": {
      "name": "python"
    }
  },
  "cells": [
    {
      "cell_type": "markdown",
      "metadata": {
        "id": "view-in-github",
        "colab_type": "text"
      },
      "source": [
        "<a href=\"https://colab.research.google.com/github/pavansai26/eigenmaps.ai-python-questions/blob/main/eigenmaps_ai_python_questions.ipynb\" target=\"_parent\"><img src=\"https://colab.research.google.com/assets/colab-badge.svg\" alt=\"Open In Colab\"/></a>"
      ]
    },
    {
      "cell_type": "code",
      "execution_count": 1,
      "metadata": {
        "id": "yv3hDD9xnWBK"
      },
      "outputs": [],
      "source": [
        "def longest_common_prefix(strs):\n",
        "    if not strs:\n",
        "        return \"\"\n",
        "    \n",
        "    prefix = strs[0]\n",
        "    \n",
        "    for i in range(1, len(strs)):\n",
        "        while strs[i].find(prefix) != 0:\n",
        "            prefix = prefix[:-1]\n",
        "            if not prefix:\n",
        "                return \"\"\n",
        "    \n",
        "    return prefix\n"
      ]
    },
    {
      "cell_type": "code",
      "source": [
        "longest_common_prefix([\"flower\",\"flow\",\"flight\"])"
      ],
      "metadata": {
        "colab": {
          "base_uri": "https://localhost:8080/",
          "height": 35
        },
        "id": "tPt8-pGCnZQi",
        "outputId": "ccf30aad-c4ee-4b54-fc40-ff0e02fa3cf6"
      },
      "execution_count": 2,
      "outputs": [
        {
          "output_type": "execute_result",
          "data": {
            "text/plain": [
              "'fl'"
            ],
            "application/vnd.google.colaboratory.intrinsic+json": {
              "type": "string"
            }
          },
          "metadata": {},
          "execution_count": 2
        }
      ]
    },
    {
      "cell_type": "code",
      "source": [
        "def two_sum(nums, target):\n",
        "    num_dict = {}\n",
        "    \n",
        "    for i, num in enumerate(nums):\n",
        "        complement = target - num\n",
        "        \n",
        "        if complement in num_dict:\n",
        "            return [num_dict[complement], i]\n",
        "        \n",
        "        num_dict[num] = i\n",
        "    \n",
        "    return []\n"
      ],
      "metadata": {
        "id": "gpmt-pI1npsl"
      },
      "execution_count": 3,
      "outputs": []
    },
    {
      "cell_type": "code",
      "source": [
        "two_sum([2,7,11,15], 9)"
      ],
      "metadata": {
        "colab": {
          "base_uri": "https://localhost:8080/"
        },
        "id": "uqT1QDI6pMv_",
        "outputId": "8d886a46-5a76-44e9-9f80-23be72d05e5d"
      },
      "execution_count": 4,
      "outputs": [
        {
          "output_type": "execute_result",
          "data": {
            "text/plain": [
              "[0, 1]"
            ]
          },
          "metadata": {},
          "execution_count": 4
        }
      ]
    },
    {
      "cell_type": "code",
      "source": [
        "def length_of_longest_substring(s):\n",
        "    char_dict = {}\n",
        "    start = 0\n",
        "    longest_substring = 0\n",
        "    \n",
        "    for end in range(len(s)):\n",
        "        if s[end] in char_dict and char_dict[s[end]] >= start:\n",
        "            start = char_dict[s[end]] + 1\n",
        "        else:\n",
        "            longest_substring = max(longest_substring, end - start + 1)\n",
        "        \n",
        "        char_dict[s[end]] = end\n",
        "    \n",
        "    return longest_substring\n"
      ],
      "metadata": {
        "id": "jEdoDqJYpXhS"
      },
      "execution_count": 5,
      "outputs": []
    },
    {
      "cell_type": "code",
      "source": [
        "length_of_longest_substring( \"abcabcbb\")"
      ],
      "metadata": {
        "colab": {
          "base_uri": "https://localhost:8080/"
        },
        "id": "zF3wfDXfp_lJ",
        "outputId": "9ed9462f-32ce-44b1-bf1c-370a8de6a71f"
      },
      "execution_count": 6,
      "outputs": [
        {
          "output_type": "execute_result",
          "data": {
            "text/plain": [
              "3"
            ]
          },
          "metadata": {},
          "execution_count": 6
        }
      ]
    },
    {
      "cell_type": "code",
      "source": [
        "def roman_to_int(s):\n",
        "    #create a dictionary roman_dict that maps Roman numerals to their integer values.\n",
        "    roman_dict = {'I': 1, 'V': 5, 'X': 10, 'L': 50, 'C': 100, 'D': 500, 'M': 1000}\n",
        "    #initialize the previous integer value prev to 0 \n",
        "    prev = 0\n",
        "    #total integer value total to 0.\n",
        "    total = 0\n",
        "    \n",
        "    #loop over the Roman numeral string s, and for each character c\n",
        "    for c in s:\n",
        "        current = roman_dict[c]\n",
        "        total += current\n",
        "        \n",
        "        if current > prev:\n",
        "            total -= 2 * prev\n",
        "        \n",
        "        prev = current\n",
        "    \n",
        "    return total\n"
      ],
      "metadata": {
        "id": "p1iSeqpvqJZo"
      },
      "execution_count": 7,
      "outputs": []
    },
    {
      "cell_type": "code",
      "source": [
        "roman_to_int(\"LVIII\")"
      ],
      "metadata": {
        "colab": {
          "base_uri": "https://localhost:8080/"
        },
        "id": "iAZW880kqiNy",
        "outputId": "fd5f7d4b-6455-4138-f627-d00a32fa90fd"
      },
      "execution_count": 8,
      "outputs": [
        {
          "output_type": "execute_result",
          "data": {
            "text/plain": [
              "58"
            ]
          },
          "metadata": {},
          "execution_count": 8
        }
      ]
    },
    {
      "cell_type": "code",
      "source": [],
      "metadata": {
        "id": "R9dzf7Qvq4n_"
      },
      "execution_count": null,
      "outputs": []
    }
  ]
}